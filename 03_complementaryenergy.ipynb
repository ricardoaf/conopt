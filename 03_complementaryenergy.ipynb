{
 "cells": [
  {
   "cell_type": "markdown",
   "metadata": {},
   "source": [
    "# Complementary Energy Example"
   ]
  },
  {
   "cell_type": "code",
   "execution_count": 1,
   "metadata": {},
   "outputs": [],
   "source": [
    "using JuMP, Ipopt"
   ]
  },
  {
   "cell_type": "code",
   "execution_count": 2,
   "metadata": {},
   "outputs": [
    {
     "name": "stdout",
     "output_type": "stream",
     "text": [
      "r₁ref : 3.3333333333333335, r₂ref : -6.666666666666667\n"
     ]
    }
   ],
   "source": [
    "# Problem data\n",
    "P, k₁, k₂ = 10., 100., 200.\n",
    "\n",
    "# Complementary energy and equilibrium condition\n",
    "Πc(r₁, r₂) = 1/2 * r₁^2 / k₁ + 1/2 * r₂^2 / k₂\n",
    " h(r₁, r₂) = r₂ - r₁ + P;\n",
    "\n",
    "# reference results\n",
    "r₁ref(P, k₁, k₂) =  P * k₁ / (k₁ + k₂)\n",
    "r₂ref(P, k₁, k₂) = -P * k₂ / (k₁ + k₂)\n",
    "\n",
    "println(\"r₁ref : \", r₁ref(P, k₁, k₂), \", r₂ref : \", r₂ref(P, k₁, k₂))"
   ]
  },
  {
   "cell_type": "code",
   "execution_count": 3,
   "metadata": {},
   "outputs": [
    {
     "name": "stdout",
     "output_type": "stream",
     "text": [
      "Min 0.005 r₁² + 0.0025 r₂²\n",
      "Subject to\n",
      " -r₁ + r₂ == -10.0\n",
      "\n",
      "\n",
      "******************************************************************************\n",
      "This program contains Ipopt, a library for large-scale nonlinear optimization.\n",
      " Ipopt is released as open source code under the Eclipse Public License (EPL).\n",
      "         For more information visit http://projects.coin-or.org/Ipopt\n",
      "******************************************************************************\n",
      "\n",
      "Termination status: LOCALLY_SOLVED\n",
      "Primal status: FEASIBLE_POINT\n",
      " f* : 0.16666666666666669\n",
      "r₁* : 3.3333333333333335, r₂* : -6.666666666666667\n"
     ]
    }
   ],
   "source": [
    "m = Model(Ipopt.Optimizer)\n",
    "set_optimizer_attribute(m, \"print_level\", 0)\n",
    "\n",
    "@variable(m, r₁)\n",
    "@variable(m, r₂)\n",
    "\n",
    "@objective(m, Min, Πc(r₁, r₂))\n",
    "\n",
    "@constraint(m, h(r₁, r₂) == 0)\n",
    "\n",
    "println(m)\n",
    "optimize!(m)\n",
    "\n",
    "println(\"Termination status: \", termination_status(m))\n",
    "println(\"Primal status: \", primal_status(m))\n",
    "\n",
    "println(\" f* : \", objective_value(m))\n",
    "println(\"r₁* : \", value(r₁), \", r₂* : \", value(r₂))"
   ]
  }
 ],
 "metadata": {
  "kernelspec": {
   "display_name": "Julia 1.5.3",
   "language": "julia",
   "name": "julia-1.5"
  },
  "language_info": {
   "file_extension": ".jl",
   "mimetype": "application/julia",
   "name": "julia",
   "version": "1.5.3"
  }
 },
 "nbformat": 4,
 "nbformat_minor": 4
}
