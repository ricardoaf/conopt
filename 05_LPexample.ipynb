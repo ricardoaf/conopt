{
 "cells": [
  {
   "cell_type": "markdown",
   "metadata": {},
   "source": [
    "# Linear Program Example"
   ]
  },
  {
   "cell_type": "code",
   "execution_count": 1,
   "metadata": {},
   "outputs": [],
   "source": [
    "using JuMP, GLPK, Tulip"
   ]
  },
  {
   "cell_type": "markdown",
   "metadata": {},
   "source": [
    "## Build the model"
   ]
  },
  {
   "cell_type": "code",
   "execution_count": 2,
   "metadata": {},
   "outputs": [
    {
     "name": "stdout",
     "output_type": "stream",
     "text": [
      "Min -2 x[1] - 3 x[2] - 4 x[3]\n",
      "Subject to\n",
      " 3 x[1] + 2 x[2] + x[3] <= 10.0\n",
      " 2 x[1] + 5 x[2] + 3 x[3] <= 15.0\n",
      " x[1] >= 0.0\n",
      " x[2] >= 0.0\n",
      " x[3] >= 0.0\n"
     ]
    }
   ],
   "source": [
    "model = Model()\n",
    "\n",
    "@variable(model, x[1:3] >= 0)\n",
    "\n",
    "c = [-2, -3, -4]\n",
    "@objective(model, Min, c' * x)\n",
    "\n",
    "A = [3 2 1; 2 5 3]; b = [10, 15]\n",
    "@constraint(model, A * x .<= b)\n",
    "\n",
    "print(model)"
   ]
  },
  {
   "cell_type": "markdown",
   "metadata": {},
   "source": [
    "## Define optimize function"
   ]
  },
  {
   "cell_type": "code",
   "execution_count": 3,
   "metadata": {},
   "outputs": [],
   "source": [
    "function optimize(model, optimizer)\n",
    "\n",
    "    # set optimizer and optimize\n",
    "    println.(optimizer)\n",
    "    set_optimizer(model, optimizer)\n",
    "    @time optimize!(model)\n",
    "\n",
    "    # check the termination and primal status to see if we have a solution\n",
    "    println(\"Termination status : \", termination_status(model))\n",
    "    println(\"Primal status      : \", primal_status(model))\n",
    "\n",
    "    # print the solution\n",
    "    println(\"f* : \", objective_value(model))\n",
    "    println(\"x* : \", [value(x[i]) for i=1:3])\n",
    "\n",
    "end;"
   ]
  },
  {
   "cell_type": "markdown",
   "metadata": {},
   "source": [
    "## Perform optimizations"
   ]
  },
  {
   "cell_type": "code",
   "execution_count": 4,
   "metadata": {},
   "outputs": [
    {
     "name": "stdout",
     "output_type": "stream",
     "text": [
      "GLPK.Optimizer\n",
      "  7.440908 seconds (27.76 M allocations: 1.392 GiB, 7.56% gc time)\n",
      "Termination status : OPTIMAL\n",
      "Primal status      : FEASIBLE_POINT\n",
      "f* : -20.0\n",
      "x* : [0.0, 0.0, 5.0]\n"
     ]
    }
   ],
   "source": [
    "optimize(model, GLPK.Optimizer) # simplex-based"
   ]
  },
  {
   "cell_type": "code",
   "execution_count": 5,
   "metadata": {},
   "outputs": [
    {
     "name": "stdout",
     "output_type": "stream",
     "text": [
      "Tulip.Optimizer\n",
      " 12.530963 seconds (33.04 M allocations: 1.573 GiB, 5.68% gc time)\n",
      "Termination status : OPTIMAL\n",
      "Primal status      : FEASIBLE_POINT\n",
      "f* : -19.999999997829246\n",
      "x* : [9.849747875647242e-10, 3.115766236747574e-11, 4.999999998941455]\n"
     ]
    }
   ],
   "source": [
    "optimize(model, Tulip.Optimizer) # interior point-based"
   ]
  }
 ],
 "metadata": {
  "kernelspec": {
   "display_name": "Julia 1.5.3",
   "language": "julia",
   "name": "julia-1.5"
  },
  "language_info": {
   "file_extension": ".jl",
   "mimetype": "application/julia",
   "name": "julia",
   "version": "1.5.3"
  }
 },
 "nbformat": 4,
 "nbformat_minor": 4
}
