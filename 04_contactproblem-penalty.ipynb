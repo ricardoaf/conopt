{
 "cells": [
  {
   "cell_type": "markdown",
   "metadata": {},
   "source": [
    "# Contact Problem using Penalty Method"
   ]
  },
  {
   "cell_type": "code",
   "execution_count": 1,
   "metadata": {},
   "outputs": [],
   "source": [
    "using Optim, LinearAlgebra"
   ]
  },
  {
   "cell_type": "code",
   "execution_count": 2,
   "metadata": {},
   "outputs": [],
   "source": [
    "# Problem data\n",
    "P = 200.\n",
    "k₁, k₂, δ = 1000., 1000., 0.15\n",
    "\n",
    "# Stiffness matrix and external force vector\n",
    "K = [k₁+k₂ -k₂; -k₂ k₂]\n",
    "F = [P, 0.]\n",
    "\n",
    "# Total Potential Energy and contact condition\n",
    "Π(u) = 1/2 * u ⋅ (K * u) - (F ⋅ u)\n",
    "g(u) = u[2] - δ\n",
    "\n",
    "# Penalty function (quadratic)\n",
    "p(u) = max(g(u), 0)^2;"
   ]
  },
  {
   "cell_type": "code",
   "execution_count": 3,
   "metadata": {},
   "outputs": [],
   "source": [
    "# minimize: calling Optim unconstained optimize function\n",
    "function minimize(f, x0)\n",
    "    \n",
    "    res = optimize(f, x0)\n",
    "    return Optim.minimizer(res)\n",
    "end;"
   ]
  },
  {
   "cell_type": "code",
   "execution_count": 7,
   "metadata": {},
   "outputs": [],
   "source": [
    "# Penalty method code\n",
    "function penalty_method(f, p, x, k_max; ρ=1, γ=2)   \n",
    "    for k in 1 : k_max\n",
    "        x = minimize(x -> f(x) + ρ * p(x), x)\n",
    "        ρ *= γ\n",
    "        if p(x) == 0\n",
    "            return x, k, ρ\n",
    "        end\n",
    "    end\n",
    "    return x, k, ρ\n",
    "end;"
   ]
  },
  {
   "cell_type": "code",
   "execution_count": 8,
   "metadata": {},
   "outputs": [
    {
     "name": "stdout",
     "output_type": "stream",
     "text": [
      "u* : [0.17500468911768227, 0.14999999945312512], iterations: 46, ρ : 70368744177664\n"
     ]
    }
   ],
   "source": [
    "# Eval contact problem using penalty method\n",
    "uopt, k, ρ = penalty_method(Π, p, [0., 0], 100)\n",
    "println(\"u* : \", uopt, \", iterations: \", k, \", ρ : \", ρ)"
   ]
  }
 ],
 "metadata": {
  "kernelspec": {
   "display_name": "Julia 1.5.3",
   "language": "julia",
   "name": "julia-1.5"
  },
  "language_info": {
   "file_extension": ".jl",
   "mimetype": "application/julia",
   "name": "julia",
   "version": "1.5.3"
  }
 },
 "nbformat": 4,
 "nbformat_minor": 4
}
