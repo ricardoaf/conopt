{
 "cells": [
  {
   "cell_type": "markdown",
   "metadata": {},
   "source": [
    "# Prestressed Beam Problem"
   ]
  },
  {
   "cell_type": "markdown",
   "metadata": {},
   "source": [
    "## Input data"
   ]
  },
  {
   "cell_type": "code",
   "execution_count": 1,
   "metadata": {},
   "outputs": [],
   "source": [
    "using JuMP, Ipopt, GLPK"
   ]
  },
  {
   "cell_type": "code",
   "execution_count": 2,
   "metadata": {},
   "outputs": [],
   "source": [
    "# Geometry\n",
    "L, b, h = 12., 0.1, 1. # m\n",
    "\n",
    "# Load and material\n",
    "q0 = 20.  # kN/m\n",
    "E = 30e+6 # kPa\n",
    "\n",
    "# Bounds\n",
    "σmin, σmax = -15e+3, 1e+3  # kPa\n",
    "δmin, δmax = -L/300, L/300 # m\n",
    "f0max = 5e+3 # kN\n",
    "cover = 0.05 # m\n",
    "emax = (h-2*cover)/2;\n",
    "\n",
    "# Beam maximum stress (top/bottom) and deflection\n",
    "σt(f0, e) = -f0 / (b * h) - 6 / (b * h^2) * (q0 / 8 * L^2 - f0 * e)\n",
    "σb(f0, e) = -f0 / (b * h) + 6 / (b * h^2) * (q0 / 8 * L^2 - f0 * e)\n",
    " δ(f0, e) =  5 / (32E * b * h^3) * L^4 * (q0 - 8 / L / L * f0 * e);"
   ]
  },
  {
   "cell_type": "markdown",
   "metadata": {},
   "source": [
    "## Solving as a conventional problem"
   ]
  },
  {
   "cell_type": "code",
   "execution_count": 3,
   "metadata": {},
   "outputs": [
    {
     "name": "stdout",
     "output_type": "stream",
     "text": [
      "Min f0\n",
      "Subject to\n",
      " -60 f0*e - 10 f0 in [-36600.0, -20600.0]\n",
      " 60 f0*e - 10 f0 in [6600.0, 22600.0]\n",
      " -5.9999999999999995e-5 f0*e in [-0.0616, 0.0184]\n",
      " f0 >= 0.0\n",
      " e >= 0.0\n",
      " e <= 0.45\n",
      "\n",
      "\n",
      "******************************************************************************\n",
      "This program contains Ipopt, a library for large-scale nonlinear optimization.\n",
      " Ipopt is released as open source code under the Eclipse Public License (EPL).\n",
      "         For more information visit http://projects.coin-or.org/Ipopt\n",
      "******************************************************************************\n",
      "\n",
      "Termination status: LOCALLY_SOLVED\n",
      "Primal status: FEASIBLE_POINT\n",
      "f* : 556.7567421657133\n",
      "f0* : 556.7567421657133, e* : 0.45\n"
     ]
    }
   ],
   "source": [
    "model = Model(Ipopt.Optimizer)\n",
    "set_optimizer_attribute(model, \"print_level\", 0)\n",
    "\n",
    "@variable(model, f0 >= 0)\n",
    "@variable(model, 0 <= e <= emax)\n",
    "\n",
    "@objective(model, Min, f0)\n",
    "\n",
    "@constraint(model, σmin <= σb(f0, e) <= σmax)\n",
    "@constraint(model, σmin <= σt(f0, e) <= σmax)\n",
    "@constraint(model, δmin <=  δ(f0, e) <= δmax)\n",
    "\n",
    "println(model)\n",
    "optimize!(model)\n",
    "\n",
    "println(\"Termination status: \", termination_status(model))\n",
    "println(\"Primal status: \", primal_status(model))\n",
    "\n",
    "println(\"f* : \", objective_value(model))\n",
    "println(\"f0* : \", value(f0), \", e* : \", value(e))"
   ]
  },
  {
   "cell_type": "markdown",
   "metadata": {},
   "source": [
    "## Solving as a linear program\n",
    "using $m = f0 \\cdot e$"
   ]
  },
  {
   "cell_type": "code",
   "execution_count": 4,
   "metadata": {},
   "outputs": [
    {
     "name": "stdout",
     "output_type": "stream",
     "text": [
      "Min f0\n",
      "Subject to\n",
      " -0.45 f0 + m <= 0.0\n",
      " -10 f0 - 60 m in [-36600.0, -20600.0]\n",
      " -10 f0 + 60 m in [6600.0, 22600.0]\n",
      " -5.9999999999999995e-5 m in [-0.0616, 0.0184]\n",
      " f0 >= 0.0\n",
      " m >= 0.0\n",
      "\n",
      "Termination status: OPTIMAL\n",
      "Primal status: FEASIBLE_POINT\n",
      " f* : 556.7567567567568\n",
      "f0* : 556.7567567567568, m* : 250.54054054054055\n",
      " e* : 0.45\n"
     ]
    }
   ],
   "source": [
    "model = Model(GLPK.Optimizer)\n",
    "\n",
    "@variable(model, f0 >= 0)\n",
    "@variable(model, m >= 0)  # m = f0 * e\n",
    "\n",
    "@objective(model, Min, f0)\n",
    "\n",
    "# Beam maximum stress (top/bottom) and deflection\n",
    "σt(f0, m) = -f0 / (b * h) - 6 / (b * h^2) * (q0 / 8 * L^2 - m)\n",
    "σb(f0, m) = -f0 / (b * h) + 6 / (b * h^2) * (q0 / 8 * L^2 - m)\n",
    " δ(f0, m) =  5 / (32E * b * h^3) * L^4 * (q0 - 8 / L / L * m);\n",
    "\n",
    "@constraint(model, σmin <= σb(f0, m) <= σmax)\n",
    "@constraint(model, σmin <= σt(f0, m) <= σmax)\n",
    "@constraint(model, δmin <=  δ(f0, m) <= δmax)\n",
    "\n",
    "# Additional constraint\n",
    "@constraint(model, m <= f0 * emax)\n",
    "\n",
    "println(model)\n",
    "optimize!(model)\n",
    "\n",
    "println(\"Termination status: \", termination_status(model))\n",
    "println(\"Primal status: \", primal_status(model))\n",
    "\n",
    "println(\" f* : \", objective_value(model))\n",
    "println(\"f0* : \", value(f0), \", m* : \", value(m))\n",
    "println(\" e* : \", value(m)/value(f0))"
   ]
  }
 ],
 "metadata": {
  "kernelspec": {
   "display_name": "Julia 1.5.3",
   "language": "julia",
   "name": "julia-1.5"
  },
  "language_info": {
   "file_extension": ".jl",
   "mimetype": "application/julia",
   "name": "julia",
   "version": "1.5.3"
  }
 },
 "nbformat": 4,
 "nbformat_minor": 4
}
